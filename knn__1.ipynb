{
 "cells": [
  {
   "cell_type": "code",
   "execution_count": 65,
   "metadata": {},
   "outputs": [],
   "source": [
    "import pandas as pd\n",
    "import numpy as np\n",
    "import matplotlib.pyplot as plt\n",
    "from sklearn.preprocessing import OneHotEncoder, StandardScaler,LabelEncoder\n",
    "from sklearn.model_selection import train_test_split, GridSearchCV\n",
    "from sklearn.compose import ColumnTransformer\n",
    "from sklearn.pipeline import Pipeline\n",
    "from sklearn.neighbors import KNeighborsRegressor\n",
    "from sklearn.ensemble import RandomForestRegressor\n",
    "from sklearn.metrics import mean_squared_error, mean_absolute_error, confusion_matrix,r2_score,accuracy_score"
   ]
  },
  {
   "cell_type": "code",
   "execution_count": 25,
   "metadata": {},
   "outputs": [],
   "source": [
    "data=pd.read_csv(\"C:\\\\Users\\\\sgupta1\\\\Desktop\\\\machine learning git files\\\\machine_learning\\\\KNN\\\\TNSTATE_ShortTerm.csv\")"
   ]
  },
  {
   "cell_type": "code",
   "execution_count": 26,
   "metadata": {},
   "outputs": [
    {
     "data": {
      "text/html": [
       "<div>\n",
       "<style scoped>\n",
       "    .dataframe tbody tr th:only-of-type {\n",
       "        vertical-align: middle;\n",
       "    }\n",
       "\n",
       "    .dataframe tbody tr th {\n",
       "        vertical-align: top;\n",
       "    }\n",
       "\n",
       "    .dataframe thead th {\n",
       "        text-align: right;\n",
       "    }\n",
       "</style>\n",
       "<table border=\"1\" class=\"dataframe\">\n",
       "  <thead>\n",
       "    <tr style=\"text-align: right;\">\n",
       "      <th></th>\n",
       "      <th></th>\n",
       "      <th>AADT</th>\n",
       "      <th>AADT Code</th>\n",
       "      <th>AADT Year</th>\n",
       "      <th>AADT BC (4-13)</th>\n",
       "      <th>AADT BC (4-13) Code</th>\n",
       "      <th>Category</th>\n",
       "      <th>Collection Group</th>\n",
       "      <th>Functional Class Text</th>\n",
       "      <th>Located On</th>\n",
       "      <th>Latitude</th>\n",
       "      <th>Longitude</th>\n",
       "      <th>Rural/Urban</th>\n",
       "      <th>D Factor</th>\n",
       "      <th>K Factor</th>\n",
       "      <th>AADT PA (1-3)</th>\n",
       "      <th>AADT PA (1-3) Code</th>\n",
       "      <th>AADT Single Trucks</th>\n",
       "      <th>AADT Combo Trucks</th>\n",
       "    </tr>\n",
       "  </thead>\n",
       "  <tbody>\n",
       "    <tr>\n",
       "      <th>0</th>\n",
       "      <td>01000001R</td>\n",
       "      <td>6586.0</td>\n",
       "      <td>1.0</td>\n",
       "      <td>2013.0</td>\n",
       "      <td>NaN</td>\n",
       "      <td>NaN</td>\n",
       "      <td>RP</td>\n",
       "      <td>Coverage</td>\n",
       "      <td>Interstate</td>\n",
       "      <td>I0075</td>\n",
       "      <td>36.165629</td>\n",
       "      <td>-84.079690</td>\n",
       "      <td>R</td>\n",
       "      <td>1.00</td>\n",
       "      <td>0.09</td>\n",
       "      <td>NaN</td>\n",
       "      <td>NaN</td>\n",
       "      <td>NaN</td>\n",
       "      <td>NaN</td>\n",
       "    </tr>\n",
       "    <tr>\n",
       "      <th>1</th>\n",
       "      <td>01000001R</td>\n",
       "      <td>5918.0</td>\n",
       "      <td>1.0</td>\n",
       "      <td>2014.0</td>\n",
       "      <td>NaN</td>\n",
       "      <td>NaN</td>\n",
       "      <td>RP</td>\n",
       "      <td>Coverage</td>\n",
       "      <td>Interstate</td>\n",
       "      <td>I0075</td>\n",
       "      <td>36.165629</td>\n",
       "      <td>-84.079690</td>\n",
       "      <td>R</td>\n",
       "      <td>1.00</td>\n",
       "      <td>0.09</td>\n",
       "      <td>NaN</td>\n",
       "      <td>NaN</td>\n",
       "      <td>NaN</td>\n",
       "      <td>NaN</td>\n",
       "    </tr>\n",
       "    <tr>\n",
       "      <th>2</th>\n",
       "      <td>01000001R</td>\n",
       "      <td>7444.0</td>\n",
       "      <td>1.0</td>\n",
       "      <td>2015.0</td>\n",
       "      <td>NaN</td>\n",
       "      <td>NaN</td>\n",
       "      <td>RP</td>\n",
       "      <td>Coverage</td>\n",
       "      <td>Interstate</td>\n",
       "      <td>I0075</td>\n",
       "      <td>36.165629</td>\n",
       "      <td>-84.079690</td>\n",
       "      <td>R</td>\n",
       "      <td>1.00</td>\n",
       "      <td>0.08</td>\n",
       "      <td>NaN</td>\n",
       "      <td>NaN</td>\n",
       "      <td>NaN</td>\n",
       "      <td>NaN</td>\n",
       "    </tr>\n",
       "    <tr>\n",
       "      <th>3</th>\n",
       "      <td>01000001R</td>\n",
       "      <td>6643.0</td>\n",
       "      <td>1.0</td>\n",
       "      <td>2016.0</td>\n",
       "      <td>NaN</td>\n",
       "      <td>NaN</td>\n",
       "      <td>RP</td>\n",
       "      <td>Coverage</td>\n",
       "      <td>Interstate</td>\n",
       "      <td>I0075</td>\n",
       "      <td>36.165629</td>\n",
       "      <td>-84.079690</td>\n",
       "      <td>R</td>\n",
       "      <td>1.00</td>\n",
       "      <td>0.09</td>\n",
       "      <td>NaN</td>\n",
       "      <td>NaN</td>\n",
       "      <td>NaN</td>\n",
       "      <td>NaN</td>\n",
       "    </tr>\n",
       "    <tr>\n",
       "      <th>4</th>\n",
       "      <td>01000001R</td>\n",
       "      <td>6376.0</td>\n",
       "      <td>1.0</td>\n",
       "      <td>2017.0</td>\n",
       "      <td>NaN</td>\n",
       "      <td>NaN</td>\n",
       "      <td>RP</td>\n",
       "      <td>Coverage</td>\n",
       "      <td>Interstate</td>\n",
       "      <td>I0075</td>\n",
       "      <td>36.165629</td>\n",
       "      <td>-84.079690</td>\n",
       "      <td>R</td>\n",
       "      <td>1.00</td>\n",
       "      <td>0.08</td>\n",
       "      <td>NaN</td>\n",
       "      <td>NaN</td>\n",
       "      <td>NaN</td>\n",
       "      <td>NaN</td>\n",
       "    </tr>\n",
       "    <tr>\n",
       "      <th>...</th>\n",
       "      <td>...</td>\n",
       "      <td>...</td>\n",
       "      <td>...</td>\n",
       "      <td>...</td>\n",
       "      <td>...</td>\n",
       "      <td>...</td>\n",
       "      <td>...</td>\n",
       "      <td>...</td>\n",
       "      <td>...</td>\n",
       "      <td>...</td>\n",
       "      <td>...</td>\n",
       "      <td>...</td>\n",
       "      <td>...</td>\n",
       "      <td>...</td>\n",
       "      <td>...</td>\n",
       "      <td>...</td>\n",
       "      <td>...</td>\n",
       "      <td>...</td>\n",
       "      <td>...</td>\n",
       "    </tr>\n",
       "    <tr>\n",
       "      <th>140138</th>\n",
       "      <td>95000237</td>\n",
       "      <td>1515.0</td>\n",
       "      <td>2.0</td>\n",
       "      <td>2018.0</td>\n",
       "      <td>NaN</td>\n",
       "      <td>NaN</td>\n",
       "      <td>CC</td>\n",
       "      <td>Coverage</td>\n",
       "      <td>Major Collector</td>\n",
       "      <td>01368</td>\n",
       "      <td>36.175602</td>\n",
       "      <td>-86.456863</td>\n",
       "      <td>U</td>\n",
       "      <td>NaN</td>\n",
       "      <td>NaN</td>\n",
       "      <td>NaN</td>\n",
       "      <td>NaN</td>\n",
       "      <td>NaN</td>\n",
       "      <td>NaN</td>\n",
       "    </tr>\n",
       "    <tr>\n",
       "      <th>140139</th>\n",
       "      <td>95000237</td>\n",
       "      <td>15665.0</td>\n",
       "      <td>1.0</td>\n",
       "      <td>2019.0</td>\n",
       "      <td>NaN</td>\n",
       "      <td>NaN</td>\n",
       "      <td>CC</td>\n",
       "      <td>Coverage</td>\n",
       "      <td>Major Collector</td>\n",
       "      <td>01368</td>\n",
       "      <td>36.175602</td>\n",
       "      <td>-86.456863</td>\n",
       "      <td>U</td>\n",
       "      <td>0.58</td>\n",
       "      <td>0.12</td>\n",
       "      <td>NaN</td>\n",
       "      <td>NaN</td>\n",
       "      <td>NaN</td>\n",
       "      <td>NaN</td>\n",
       "    </tr>\n",
       "    <tr>\n",
       "      <th>140140</th>\n",
       "      <td>95000237</td>\n",
       "      <td>13832.0</td>\n",
       "      <td>3.0</td>\n",
       "      <td>2020.0</td>\n",
       "      <td>511.0</td>\n",
       "      <td>11.0</td>\n",
       "      <td>CC</td>\n",
       "      <td>Coverage</td>\n",
       "      <td>Major Collector</td>\n",
       "      <td>01368</td>\n",
       "      <td>36.175602</td>\n",
       "      <td>-86.456863</td>\n",
       "      <td>U</td>\n",
       "      <td>0.58</td>\n",
       "      <td>0.12</td>\n",
       "      <td>13321.0</td>\n",
       "      <td>11.0</td>\n",
       "      <td>303.0</td>\n",
       "      <td>208.0</td>\n",
       "    </tr>\n",
       "    <tr>\n",
       "      <th>140141</th>\n",
       "      <td>95000237</td>\n",
       "      <td>15008.0</td>\n",
       "      <td>3.0</td>\n",
       "      <td>2021.0</td>\n",
       "      <td>450.0</td>\n",
       "      <td>11.0</td>\n",
       "      <td>CC</td>\n",
       "      <td>Coverage</td>\n",
       "      <td>Major Collector</td>\n",
       "      <td>01368</td>\n",
       "      <td>36.175602</td>\n",
       "      <td>-86.456863</td>\n",
       "      <td>U</td>\n",
       "      <td>0.58</td>\n",
       "      <td>0.12</td>\n",
       "      <td>14558.0</td>\n",
       "      <td>11.0</td>\n",
       "      <td>300.0</td>\n",
       "      <td>150.0</td>\n",
       "    </tr>\n",
       "    <tr>\n",
       "      <th>140142</th>\n",
       "      <td>95000237</td>\n",
       "      <td>15878.0</td>\n",
       "      <td>3.0</td>\n",
       "      <td>2022.0</td>\n",
       "      <td>381.0</td>\n",
       "      <td>11.0</td>\n",
       "      <td>CC</td>\n",
       "      <td>Coverage</td>\n",
       "      <td>Major Collector</td>\n",
       "      <td>01368</td>\n",
       "      <td>36.175602</td>\n",
       "      <td>-86.456863</td>\n",
       "      <td>U</td>\n",
       "      <td>0.58</td>\n",
       "      <td>0.12</td>\n",
       "      <td>15497.0</td>\n",
       "      <td>11.0</td>\n",
       "      <td>301.0</td>\n",
       "      <td>80.0</td>\n",
       "    </tr>\n",
       "  </tbody>\n",
       "</table>\n",
       "<p>140143 rows × 19 columns</p>\n",
       "</div>"
      ],
      "text/plain": [
       "                      AADT  AADT Code  AADT Year  AADT BC (4-13)  \\\n",
       "0       01000001R   6586.0        1.0     2013.0             NaN   \n",
       "1       01000001R   5918.0        1.0     2014.0             NaN   \n",
       "2       01000001R   7444.0        1.0     2015.0             NaN   \n",
       "3       01000001R   6643.0        1.0     2016.0             NaN   \n",
       "4       01000001R   6376.0        1.0     2017.0             NaN   \n",
       "...           ...      ...        ...        ...             ...   \n",
       "140138   95000237   1515.0        2.0     2018.0             NaN   \n",
       "140139   95000237  15665.0        1.0     2019.0             NaN   \n",
       "140140   95000237  13832.0        3.0     2020.0           511.0   \n",
       "140141   95000237  15008.0        3.0     2021.0           450.0   \n",
       "140142   95000237  15878.0        3.0     2022.0           381.0   \n",
       "\n",
       "        AADT BC (4-13) Code Category Collection Group Functional Class Text  \\\n",
       "0                       NaN       RP         Coverage            Interstate   \n",
       "1                       NaN       RP         Coverage            Interstate   \n",
       "2                       NaN       RP         Coverage            Interstate   \n",
       "3                       NaN       RP         Coverage            Interstate   \n",
       "4                       NaN       RP         Coverage            Interstate   \n",
       "...                     ...      ...              ...                   ...   \n",
       "140138                  NaN       CC         Coverage       Major Collector   \n",
       "140139                  NaN       CC         Coverage       Major Collector   \n",
       "140140                 11.0       CC         Coverage       Major Collector   \n",
       "140141                 11.0       CC         Coverage       Major Collector   \n",
       "140142                 11.0       CC         Coverage       Major Collector   \n",
       "\n",
       "       Located On   Latitude  Longitude Rural/Urban  D Factor  K Factor  \\\n",
       "0           I0075  36.165629 -84.079690           R      1.00      0.09   \n",
       "1           I0075  36.165629 -84.079690           R      1.00      0.09   \n",
       "2           I0075  36.165629 -84.079690           R      1.00      0.08   \n",
       "3           I0075  36.165629 -84.079690           R      1.00      0.09   \n",
       "4           I0075  36.165629 -84.079690           R      1.00      0.08   \n",
       "...           ...        ...        ...         ...       ...       ...   \n",
       "140138      01368  36.175602 -86.456863           U       NaN       NaN   \n",
       "140139      01368  36.175602 -86.456863           U      0.58      0.12   \n",
       "140140      01368  36.175602 -86.456863           U      0.58      0.12   \n",
       "140141      01368  36.175602 -86.456863           U      0.58      0.12   \n",
       "140142      01368  36.175602 -86.456863           U      0.58      0.12   \n",
       "\n",
       "        AADT PA (1-3)  AADT PA (1-3) Code  AADT Single Trucks  \\\n",
       "0                 NaN                 NaN                 NaN   \n",
       "1                 NaN                 NaN                 NaN   \n",
       "2                 NaN                 NaN                 NaN   \n",
       "3                 NaN                 NaN                 NaN   \n",
       "4                 NaN                 NaN                 NaN   \n",
       "...               ...                 ...                 ...   \n",
       "140138            NaN                 NaN                 NaN   \n",
       "140139            NaN                 NaN                 NaN   \n",
       "140140        13321.0                11.0               303.0   \n",
       "140141        14558.0                11.0               300.0   \n",
       "140142        15497.0                11.0               301.0   \n",
       "\n",
       "        AADT Combo Trucks  \n",
       "0                     NaN  \n",
       "1                     NaN  \n",
       "2                     NaN  \n",
       "3                     NaN  \n",
       "4                     NaN  \n",
       "...                   ...  \n",
       "140138                NaN  \n",
       "140139                NaN  \n",
       "140140              208.0  \n",
       "140141              150.0  \n",
       "140142               80.0  \n",
       "\n",
       "[140143 rows x 19 columns]"
      ]
     },
     "execution_count": 26,
     "metadata": {},
     "output_type": "execute_result"
    }
   ],
   "source": [
    "data"
   ]
  },
  {
   "cell_type": "markdown",
   "metadata": {},
   "source": [
    "<b> USING ONE HOT ENCODING </b>"
   ]
  },
  {
   "cell_type": "code",
   "execution_count": 27,
   "metadata": {},
   "outputs": [],
   "source": [
    "data_=data.copy()"
   ]
  },
  {
   "cell_type": "code",
   "execution_count": 28,
   "metadata": {},
   "outputs": [
    {
     "data": {
      "text/plain": [
       "Index([' ', 'AADT', 'AADT Code', 'AADT Year', 'AADT BC (4-13)',\n",
       "       'AADT BC (4-13) Code', 'Category', 'Collection Group',\n",
       "       'Functional Class Text', 'Located On', 'Latitude', 'Longitude',\n",
       "       'Rural/Urban', 'D Factor', 'K Factor', 'AADT PA (1-3)',\n",
       "       'AADT PA (1-3) Code', 'AADT Single Trucks', 'AADT Combo Trucks'],\n",
       "      dtype='object')"
      ]
     },
     "execution_count": 28,
     "metadata": {},
     "output_type": "execute_result"
    }
   ],
   "source": [
    "data_.columns"
   ]
  },
  {
   "cell_type": "code",
   "execution_count": 29,
   "metadata": {},
   "outputs": [],
   "source": [
    "from sklearn.impute import SimpleImputer\n",
    "imputer = SimpleImputer(strategy='mean')  # Replace NaN with mean\n",
    "data_['AADT'] = imputer.fit_transform(data_['AADT'].values.reshape(-1, 1))"
   ]
  },
  {
   "cell_type": "code",
   "execution_count": 30,
   "metadata": {},
   "outputs": [],
   "source": [
    "encoder=LabelEncoder()\n",
    "data_['Functional Class Text']=encoder.fit_transform(data_['Functional Class Text'])\n",
    "data_['Rural/Urban']=encoder.fit_transform(data_['Rural/Urban'])"
   ]
  },
  {
   "cell_type": "code",
   "execution_count": 31,
   "metadata": {},
   "outputs": [],
   "source": [
    "x=data_[['Functional Class Text','Rural/Urban']]\n",
    "y=data_['AADT']\n",
    "\n",
    "x_train,x_test,y_train,y_test=train_test_split(x,y,test_size=0.2,random_state=42)"
   ]
  },
  {
   "cell_type": "code",
   "execution_count": 58,
   "metadata": {},
   "outputs": [
    {
     "data": {
      "text/html": [
       "<style>#sk-container-id-5 {color: black;}#sk-container-id-5 pre{padding: 0;}#sk-container-id-5 div.sk-toggleable {background-color: white;}#sk-container-id-5 label.sk-toggleable__label {cursor: pointer;display: block;width: 100%;margin-bottom: 0;padding: 0.3em;box-sizing: border-box;text-align: center;}#sk-container-id-5 label.sk-toggleable__label-arrow:before {content: \"▸\";float: left;margin-right: 0.25em;color: #696969;}#sk-container-id-5 label.sk-toggleable__label-arrow:hover:before {color: black;}#sk-container-id-5 div.sk-estimator:hover label.sk-toggleable__label-arrow:before {color: black;}#sk-container-id-5 div.sk-toggleable__content {max-height: 0;max-width: 0;overflow: hidden;text-align: left;background-color: #f0f8ff;}#sk-container-id-5 div.sk-toggleable__content pre {margin: 0.2em;color: black;border-radius: 0.25em;background-color: #f0f8ff;}#sk-container-id-5 input.sk-toggleable__control:checked~div.sk-toggleable__content {max-height: 200px;max-width: 100%;overflow: auto;}#sk-container-id-5 input.sk-toggleable__control:checked~label.sk-toggleable__label-arrow:before {content: \"▾\";}#sk-container-id-5 div.sk-estimator input.sk-toggleable__control:checked~label.sk-toggleable__label {background-color: #d4ebff;}#sk-container-id-5 div.sk-label input.sk-toggleable__control:checked~label.sk-toggleable__label {background-color: #d4ebff;}#sk-container-id-5 input.sk-hidden--visually {border: 0;clip: rect(1px 1px 1px 1px);clip: rect(1px, 1px, 1px, 1px);height: 1px;margin: -1px;overflow: hidden;padding: 0;position: absolute;width: 1px;}#sk-container-id-5 div.sk-estimator {font-family: monospace;background-color: #f0f8ff;border: 1px dotted black;border-radius: 0.25em;box-sizing: border-box;margin-bottom: 0.5em;}#sk-container-id-5 div.sk-estimator:hover {background-color: #d4ebff;}#sk-container-id-5 div.sk-parallel-item::after {content: \"\";width: 100%;border-bottom: 1px solid gray;flex-grow: 1;}#sk-container-id-5 div.sk-label:hover label.sk-toggleable__label {background-color: #d4ebff;}#sk-container-id-5 div.sk-serial::before {content: \"\";position: absolute;border-left: 1px solid gray;box-sizing: border-box;top: 0;bottom: 0;left: 50%;z-index: 0;}#sk-container-id-5 div.sk-serial {display: flex;flex-direction: column;align-items: center;background-color: white;padding-right: 0.2em;padding-left: 0.2em;position: relative;}#sk-container-id-5 div.sk-item {position: relative;z-index: 1;}#sk-container-id-5 div.sk-parallel {display: flex;align-items: stretch;justify-content: center;background-color: white;position: relative;}#sk-container-id-5 div.sk-item::before, #sk-container-id-5 div.sk-parallel-item::before {content: \"\";position: absolute;border-left: 1px solid gray;box-sizing: border-box;top: 0;bottom: 0;left: 50%;z-index: -1;}#sk-container-id-5 div.sk-parallel-item {display: flex;flex-direction: column;z-index: 1;position: relative;background-color: white;}#sk-container-id-5 div.sk-parallel-item:first-child::after {align-self: flex-end;width: 50%;}#sk-container-id-5 div.sk-parallel-item:last-child::after {align-self: flex-start;width: 50%;}#sk-container-id-5 div.sk-parallel-item:only-child::after {width: 0;}#sk-container-id-5 div.sk-dashed-wrapped {border: 1px dashed gray;margin: 0 0.4em 0.5em 0.4em;box-sizing: border-box;padding-bottom: 0.4em;background-color: white;}#sk-container-id-5 div.sk-label label {font-family: monospace;font-weight: bold;display: inline-block;line-height: 1.2em;}#sk-container-id-5 div.sk-label-container {text-align: center;}#sk-container-id-5 div.sk-container {/* jupyter's `normalize.less` sets `[hidden] { display: none; }` but bootstrap.min.css set `[hidden] { display: none !important; }` so we also need the `!important` here to be able to override the default hidden behavior on the sphinx rendered scikit-learn.org. See: https://github.com/scikit-learn/scikit-learn/issues/21755 */display: inline-block !important;position: relative;}#sk-container-id-5 div.sk-text-repr-fallback {display: none;}</style><div id=\"sk-container-id-5\" class=\"sk-top-container\"><div class=\"sk-text-repr-fallback\"><pre>KNeighborsRegressor(n_neighbors=1000)</pre><b>In a Jupyter environment, please rerun this cell to show the HTML representation or trust the notebook. <br />On GitHub, the HTML representation is unable to render, please try loading this page with nbviewer.org.</b></div><div class=\"sk-container\" hidden><div class=\"sk-item\"><div class=\"sk-estimator sk-toggleable\"><input class=\"sk-toggleable__control sk-hidden--visually\" id=\"sk-estimator-id-5\" type=\"checkbox\" checked><label for=\"sk-estimator-id-5\" class=\"sk-toggleable__label sk-toggleable__label-arrow\">KNeighborsRegressor</label><div class=\"sk-toggleable__content\"><pre>KNeighborsRegressor(n_neighbors=1000)</pre></div></div></div></div></div>"
      ],
      "text/plain": [
       "KNeighborsRegressor(n_neighbors=1000)"
      ]
     },
     "execution_count": 58,
     "metadata": {},
     "output_type": "execute_result"
    }
   ],
   "source": [
    "k = 1000  # You can choose an appropriate value for k\n",
    "knn = KNeighborsRegressor(n_neighbors=k)\n",
    "knn.fit(x_train, y_train)"
   ]
  },
  {
   "cell_type": "code",
   "execution_count": 59,
   "metadata": {},
   "outputs": [],
   "source": [
    "y_pred = knn.predict(x_test)"
   ]
  },
  {
   "cell_type": "code",
   "execution_count": 60,
   "metadata": {},
   "outputs": [
    {
     "data": {
      "text/plain": [
       "array([ 9273.0798849,  4323.164    ,   688.151    , ..., 22194.7781415,\n",
       "        1678.445    ,  2283.533    ])"
      ]
     },
     "execution_count": 60,
     "metadata": {},
     "output_type": "execute_result"
    }
   ],
   "source": [
    "y_pred"
   ]
  },
  {
   "cell_type": "code",
   "execution_count": 61,
   "metadata": {},
   "outputs": [
    {
     "name": "stdout",
     "output_type": "stream",
     "text": [
      "Mean Squared Error: 12890.002537320555\n",
      "R-squared: 0.22602695661536254\n"
     ]
    }
   ],
   "source": [
    "mse = mean_squared_error(y_test, y_pred)\n",
    "rmse=np.sqrt(mse)\n",
    "r2 = r2_score(y_test, y_pred)\n",
    "print(f\"Mean Squared Error: {rmse}\")\n",
    "print(f\"R-squared: {r2}\")"
   ]
  },
  {
   "cell_type": "markdown",
   "metadata": {},
   "source": [
    "for k=1000\n",
    "Root Mean Squared Error: 12890.002537320555\n",
    "R-squared: 0.22602695661536254"
   ]
  },
  {
   "cell_type": "markdown",
   "metadata": {},
   "source": [
    "for k=7 \n",
    "Root Mean Squared Error: 13518.686110322147\n",
    "R-squared: 0.14868791635697876"
   ]
  },
  {
   "cell_type": "markdown",
   "metadata": {},
   "source": [
    "for k=5\n",
    "Root Mean Squared Error: 14688.344730634706\n",
    "R-squared: -0.004998798907716262"
   ]
  },
  {
   "cell_type": "code",
   "execution_count": 62,
   "metadata": {},
   "outputs": [
    {
     "data": {
      "image/png": "[encoded data removed]",
      "text/plain": [
       "<Figure size 640x480 with 1 Axes>"
      ]
     },
     "metadata": {},
     "output_type": "display_data"
    }
   ],
   "source": [
    "import seaborn as sns\n",
    "sns.scatterplot(x=y_test, y=y_test,label='Actual', marker='o')\n",
    "sns.scatterplot(x=y_test, y=y_pred, label='Predicted', marker='o')\n",
    "plt.show()"
   ]
  },
  {
   "cell_type": "markdown",
   "metadata": {},
   "source": [
    "<b> IMPROVING PREDICTIONS Random forest</b>"
   ]
  },
  {
   "cell_type": "code",
   "execution_count": 66,
   "metadata": {},
   "outputs": [
    {
     "data": {
      "text/html": [
       "<style>#sk-container-id-6 {color: black;}#sk-container-id-6 pre{padding: 0;}#sk-container-id-6 div.sk-toggleable {background-color: white;}#sk-container-id-6 label.sk-toggleable__label {cursor: pointer;display: block;width: 100%;margin-bottom: 0;padding: 0.3em;box-sizing: border-box;text-align: center;}#sk-container-id-6 label.sk-toggleable__label-arrow:before {content: \"▸\";float: left;margin-right: 0.25em;color: #696969;}#sk-container-id-6 label.sk-toggleable__label-arrow:hover:before {color: black;}#sk-container-id-6 div.sk-estimator:hover label.sk-toggleable__label-arrow:before {color: black;}#sk-container-id-6 div.sk-toggleable__content {max-height: 0;max-width: 0;overflow: hidden;text-align: left;background-color: #f0f8ff;}#sk-container-id-6 div.sk-toggleable__content pre {margin: 0.2em;color: black;border-radius: 0.25em;background-color: #f0f8ff;}#sk-container-id-6 input.sk-toggleable__control:checked~div.sk-toggleable__content {max-height: 200px;max-width: 100%;overflow: auto;}#sk-container-id-6 input.sk-toggleable__control:checked~label.sk-toggleable__label-arrow:before {content: \"▾\";}#sk-container-id-6 div.sk-estimator input.sk-toggleable__control:checked~label.sk-toggleable__label {background-color: #d4ebff;}#sk-container-id-6 div.sk-label input.sk-toggleable__control:checked~label.sk-toggleable__label {background-color: #d4ebff;}#sk-container-id-6 input.sk-hidden--visually {border: 0;clip: rect(1px 1px 1px 1px);clip: rect(1px, 1px, 1px, 1px);height: 1px;margin: -1px;overflow: hidden;padding: 0;position: absolute;width: 1px;}#sk-container-id-6 div.sk-estimator {font-family: monospace;background-color: #f0f8ff;border: 1px dotted black;border-radius: 0.25em;box-sizing: border-box;margin-bottom: 0.5em;}#sk-container-id-6 div.sk-estimator:hover {background-color: #d4ebff;}#sk-container-id-6 div.sk-parallel-item::after {content: \"\";width: 100%;border-bottom: 1px solid gray;flex-grow: 1;}#sk-container-id-6 div.sk-label:hover label.sk-toggleable__label {background-color: #d4ebff;}#sk-container-id-6 div.sk-serial::before {content: \"\";position: absolute;border-left: 1px solid gray;box-sizing: border-box;top: 0;bottom: 0;left: 50%;z-index: 0;}#sk-container-id-6 div.sk-serial {display: flex;flex-direction: column;align-items: center;background-color: white;padding-right: 0.2em;padding-left: 0.2em;position: relative;}#sk-container-id-6 div.sk-item {position: relative;z-index: 1;}#sk-container-id-6 div.sk-parallel {display: flex;align-items: stretch;justify-content: center;background-color: white;position: relative;}#sk-container-id-6 div.sk-item::before, #sk-container-id-6 div.sk-parallel-item::before {content: \"\";position: absolute;border-left: 1px solid gray;box-sizing: border-box;top: 0;bottom: 0;left: 50%;z-index: -1;}#sk-container-id-6 div.sk-parallel-item {display: flex;flex-direction: column;z-index: 1;position: relative;background-color: white;}#sk-container-id-6 div.sk-parallel-item:first-child::after {align-self: flex-end;width: 50%;}#sk-container-id-6 div.sk-parallel-item:last-child::after {align-self: flex-start;width: 50%;}#sk-container-id-6 div.sk-parallel-item:only-child::after {width: 0;}#sk-container-id-6 div.sk-dashed-wrapped {border: 1px dashed gray;margin: 0 0.4em 0.5em 0.4em;box-sizing: border-box;padding-bottom: 0.4em;background-color: white;}#sk-container-id-6 div.sk-label label {font-family: monospace;font-weight: bold;display: inline-block;line-height: 1.2em;}#sk-container-id-6 div.sk-label-container {text-align: center;}#sk-container-id-6 div.sk-container {/* jupyter's `normalize.less` sets `[hidden] { display: none; }` but bootstrap.min.css set `[hidden] { display: none !important; }` so we also need the `!important` here to be able to override the default hidden behavior on the sphinx rendered scikit-learn.org. See: https://github.com/scikit-learn/scikit-learn/issues/21755 */display: inline-block !important;position: relative;}#sk-container-id-6 div.sk-text-repr-fallback {display: none;}</style><div id=\"sk-container-id-6\" class=\"sk-top-container\"><div class=\"sk-text-repr-fallback\"><pre>RandomForestRegressor()</pre><b>In a Jupyter environment, please rerun this cell to show the HTML representation or trust the notebook. <br />On GitHub, the HTML representation is unable to render, please try loading this page with nbviewer.org.</b></div><div class=\"sk-container\" hidden><div class=\"sk-item\"><div class=\"sk-estimator sk-toggleable\"><input class=\"sk-toggleable__control sk-hidden--visually\" id=\"sk-estimator-id-6\" type=\"checkbox\" checked><label for=\"sk-estimator-id-6\" class=\"sk-toggleable__label sk-toggleable__label-arrow\">RandomForestRegressor</label><div class=\"sk-toggleable__content\"><pre>RandomForestRegressor()</pre></div></div></div></div></div>"
      ],
      "text/plain": [
       "RandomForestRegressor()"
      ]
     },
     "execution_count": 66,
     "metadata": {},
     "output_type": "execute_result"
    }
   ],
   "source": [
    "rf = RandomForestRegressor(n_estimators=100)\n",
    "rf.fit(x_train, y_train)"
   ]
  },
  {
   "cell_type": "code",
   "execution_count": 67,
   "metadata": {},
   "outputs": [],
   "source": [
    "y_pred_rf=rf.predict(x_test)"
   ]
  },
  {
   "cell_type": "code",
   "execution_count": 68,
   "metadata": {},
   "outputs": [],
   "source": [
    "y_mod_predicted=0.5*y_pred+0.5*y_pred_rf"
   ]
  },
  {
   "cell_type": "code",
   "execution_count": 69,
   "metadata": {},
   "outputs": [
    {
     "name": "stdout",
     "output_type": "stream",
     "text": [
      "Mean Squared Error: 12874.958598081721\n",
      "R-squared: 0.2278325123196212\n"
     ]
    }
   ],
   "source": [
    "mse = mean_squared_error(y_test, y_mod_predicted)\n",
    "rmse=np.sqrt(mse)\n",
    "r2 = r2_score(y_test, y_mod_predicted)\n",
    "print(f\"Mean Squared Error: {rmse}\")\n",
    "print(f\"R-squared: {r2}\")"
   ]
  },
  {
   "cell_type": "markdown",
   "metadata": {},
   "source": [
    "<b> Using Geographically Weighted Regression Model </b>"
   ]
  },
  {
   "cell_type": "code",
   "execution_count": null,
   "metadata": {},
   "outputs": [],
   "source": []
  },
  {
   "cell_type": "markdown",
   "metadata": {},
   "source": [
    "USING SPATIAL NEURAL NETWORK"
   ]
  },
  {
   "cell_type": "code",
   "execution_count": 78,
   "metadata": {},
   "outputs": [],
   "source": [
    "import tensorflow as tf"
   ]
  },
  {
   "cell_type": "code",
   "execution_count": 79,
   "metadata": {},
   "outputs": [],
   "source": [
    "model = tf.keras.models.Sequential([\n",
    "  tf.keras.layers.Dense(128, activation='relu'),\n",
    "  tf.keras.layers.Dense(128, activation='relu'),\n",
    "  tf.keras.layers.Dense(1)\n",
    "])"
   ]
  },
  {
   "cell_type": "code",
   "execution_count": 80,
   "metadata": {},
   "outputs": [],
   "source": [
    "model.compile(optimizer='adam', loss='mse')"
   ]
  },
  {
   "cell_type": "code",
   "execution_count": 84,
   "metadata": {},
   "outputs": [
    {
     "name": "stdout",
     "output_type": "stream",
     "text": [
      "876/876 [==============================] - 1s 522us/step\n"
     ]
    }
   ],
   "source": [
    "y_pred_nn = model.predict(x_test)"
   ]
  },
  {
   "cell_type": "code",
   "execution_count": 82,
   "metadata": {},
   "outputs": [
    {
     "name": "stdout",
     "output_type": "stream",
     "text": [
      "Epoch 1/20\n",
      "3504/3504 [==============================] - 2s 676us/step - loss: 172731392.0000\n",
      "Epoch 2/20\n",
      "3504/3504 [==============================] - 2s 682us/step - loss: 172643056.0000\n",
      "Epoch 3/20\n",
      "3504/3504 [==============================] - 2s 676us/step - loss: 172559632.0000\n",
      "Epoch 4/20\n",
      "3504/3504 [==============================] - 2s 676us/step - loss: 172510368.0000\n",
      "Epoch 5/20\n",
      "3504/3504 [==============================] - 2s 677us/step - loss: 172435056.0000\n",
      "Epoch 6/20\n",
      "3504/3504 [==============================] - 2s 699us/step - loss: 172333440.0000\n",
      "Epoch 7/20\n",
      "3504/3504 [==============================] - 2s 688us/step - loss: 172258480.0000\n",
      "Epoch 8/20\n",
      "3504/3504 [==============================] - 2s 667us/step - loss: 172188048.0000\n",
      "Epoch 9/20\n",
      "3504/3504 [==============================] - 2s 680us/step - loss: 172140656.0000\n",
      "Epoch 10/20\n",
      "3504/3504 [==============================] - 2s 674us/step - loss: 172029056.0000\n",
      "Epoch 11/20\n",
      "3504/3504 [==============================] - 2s 672us/step - loss: 171947616.0000\n",
      "Epoch 12/20\n",
      "3504/3504 [==============================] - 2s 680us/step - loss: 171909360.0000\n",
      "Epoch 13/20\n",
      "3504/3504 [==============================] - 2s 679us/step - loss: 171834144.0000\n",
      "Epoch 14/20\n",
      "3504/3504 [==============================] - 2s 677us/step - loss: 171779264.0000\n",
      "Epoch 15/20\n",
      "3504/3504 [==============================] - 2s 682us/step - loss: 171731184.0000\n",
      "Epoch 16/20\n",
      "3504/3504 [==============================] - 2s 671us/step - loss: 171650384.0000\n",
      "Epoch 17/20\n",
      "3504/3504 [==============================] - 2s 670us/step - loss: 171564496.0000\n",
      "Epoch 18/20\n",
      "3504/3504 [==============================] - 2s 674us/step - loss: 171519360.0000\n",
      "Epoch 19/20\n",
      "3504/3504 [==============================] - 2s 687us/step - loss: 171420096.0000\n",
      "Epoch 20/20\n",
      "3504/3504 [==============================] - 2s 674us/step - loss: 171358176.0000\n"
     ]
    },
    {
     "data": {
      "text/plain": [
       "<keras.src.callbacks.History at 0x22440c89c50>"
      ]
     },
     "execution_count": 82,
     "metadata": {},
     "output_type": "execute_result"
    }
   ],
   "source": [
    "model.fit(x_train, y_train, epochs=20)"
   ]
  },
  {
   "cell_type": "code",
   "execution_count": 86,
   "metadata": {},
   "outputs": [
    {
     "name": "stdout",
     "output_type": "stream",
     "text": [
      "Root Mean Squared Error: 12965.690371959612\n",
      "R-squared: 0.2278325123196212\n"
     ]
    }
   ],
   "source": [
    "mse = mean_squared_error(y_test, y_pred_nn)\n",
    "rmse=np.sqrt(mse)\n",
    "r2 = r2_score(y_test, y_mod_predicted)\n",
    "print(f\"Root Mean Squared Error: {rmse}\")\n",
    "print(f\"R-squared: {r2}\")"
   ]
  },
  {
   "cell_type": "code",
   "execution_count": null,
   "metadata": {},
   "outputs": [],
   "source": []
  }
 ],
 "metadata": {
  "kernelspec": {
   "display_name": "Python 3",
   "language": "python",
   "name": "python3"
  },
  "language_info": {
   "codemirror_mode": {
    "name": "ipython",
    "version": 3
   },
   "file_extension": ".py",
   "mimetype": "text/x-python",
   "name": "python",
   "nbconvert_exporter": "python",
   "pygments_lexer": "ipython3",
   "version": "3.11.5"
  }
 },
 "nbformat": 4,
 "nbformat_minor": 2
}
