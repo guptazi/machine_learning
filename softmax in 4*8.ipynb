{
 "cells": [
  {
   "cell_type": "code",
   "execution_count": 1,
   "metadata": {},
   "outputs": [
    {
     "data": {
      "text/plain": [
       "array([[0.36391237, 0.24638937, 0.18997892, 0.19971934],\n",
       "       [0.04920509, 0.09810096, 0.17003379, 0.68266016],\n",
       "       [0.28985111, 0.33009067, 0.17580359, 0.20425463],\n",
       "       [0.43413132, 0.13746194, 0.40884948, 0.01955727],\n",
       "       [0.69909471, 0.12771308, 0.16398685, 0.00920536],\n",
       "       [0.0170444 , 0.27473908, 0.08442148, 0.62379504],\n",
       "       [0.48964122, 0.3520147 , 0.14028456, 0.01805952],\n",
       "       [0.0107452 , 0.00523025, 0.44785034, 0.53617421]])"
      ]
     },
     "execution_count": 1,
     "metadata": {},
     "output_type": "execute_result"
    }
   ],
   "source": [
    "import numpy as np\n",
    "\n",
    "# Define the softmax function\n",
    "def softmax(x):\n",
    "    # Subtract the max for numerical stability\n",
    "    e_x = np.exp(x - np.max(x, axis=1, keepdims=True))\n",
    "    return e_x / np.sum(e_x, axis=1, keepdims=True)\n",
    "\n",
    "# The given vectors\n",
    "vectors = np.array([\n",
    "    [5.55, 5.16, 4.9, 4.95],\n",
    "    [4.89, 5.58, 6.13, 7.52],\n",
    "    [6.61, 6.74, 6.11, 6.26],\n",
    "    [6.68, 5.53, 6.62, 3.58],\n",
    "    [7.51, 5.81, 6.06, 3.18],\n",
    "    [3.00, 5.78, 4.6, 6.6],\n",
    "    [6.96, 6.63, 5.71, 3.66],\n",
    "    [4.84, 4.12, 8.57, 8.75]\n",
    "])\n",
    "\n",
    "# Calculate the softmax for each vector\n",
    "softmax_outputs = softmax(vectors)\n",
    "softmax_outputs\n"
   ]
  },
  {
   "cell_type": "code",
   "execution_count": null,
   "metadata": {},
   "outputs": [],
   "source": []
  }
 ],
 "metadata": {
  "kernelspec": {
   "display_name": "Python 3 (ipykernel)",
   "language": "python",
   "name": "python3"
  },
  "language_info": {
   "codemirror_mode": {
    "name": "ipython",
    "version": 3
   },
   "file_extension": ".py",
   "mimetype": "text/x-python",
   "name": "python",
   "nbconvert_exporter": "python",
   "pygments_lexer": "ipython3",
   "version": "3.11.5"
  }
 },
 "nbformat": 4,
 "nbformat_minor": 4
}
