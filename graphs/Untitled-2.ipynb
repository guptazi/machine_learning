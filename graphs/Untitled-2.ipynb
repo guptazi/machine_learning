{
 "cells": [
  {
   "cell_type": "code",
   "execution_count": 2,
   "metadata": {},
   "outputs": [],
   "source": [
    "import pandas as pd\n",
    "from sklearn.preprocessing import StandardScaler, OneHotEncoder"
   ]
  },
  {
   "cell_type": "code",
   "execution_count": 3,
   "metadata": {},
   "outputs": [],
   "source": [
    "df=pd.read_excel('Book1.xlsx')"
   ]
  },
  {
   "cell_type": "code",
   "execution_count": 4,
   "metadata": {},
   "outputs": [
    {
     "data": {
      "text/html": [
       "<div>\n",
       "<style scoped>\n",
       "    .dataframe tbody tr th:only-of-type {\n",
       "        vertical-align: middle;\n",
       "    }\n",
       "\n",
       "    .dataframe tbody tr th {\n",
       "        vertical-align: top;\n",
       "    }\n",
       "\n",
       "    .dataframe thead th {\n",
       "        text-align: right;\n",
       "    }\n",
       "</style>\n",
       "<table border=\"1\" class=\"dataframe\">\n",
       "  <thead>\n",
       "    <tr style=\"text-align: right;\">\n",
       "      <th></th>\n",
       "      <th>GPS Latitude</th>\n",
       "      <th>GPS Longitude</th>\n",
       "      <th>Adm. Sys.</th>\n",
       "      <th>Gov. Cont.</th>\n",
       "      <th>AADT</th>\n",
       "      <th>SU Truck %</th>\n",
       "    </tr>\n",
       "  </thead>\n",
       "  <tbody>\n",
       "    <tr>\n",
       "      <th>0</th>\n",
       "      <td>35.626065</td>\n",
       "      <td>-86.606475</td>\n",
       "      <td>11-OTHER COUNTY ROADS</td>\n",
       "      <td>CO. HWAY AGENCY</td>\n",
       "      <td>1672</td>\n",
       "      <td>3</td>\n",
       "    </tr>\n",
       "    <tr>\n",
       "      <th>1</th>\n",
       "      <td>35.626065</td>\n",
       "      <td>-86.606475</td>\n",
       "      <td>11-OTHER COUNTY ROADS</td>\n",
       "      <td>CO. HWAY AGENCY</td>\n",
       "      <td>1672</td>\n",
       "      <td>3</td>\n",
       "    </tr>\n",
       "    <tr>\n",
       "      <th>2</th>\n",
       "      <td>35.626065</td>\n",
       "      <td>-86.606475</td>\n",
       "      <td>11-OTHER COUNTY ROADS</td>\n",
       "      <td>CO. HWAY AGENCY</td>\n",
       "      <td>1672</td>\n",
       "      <td>3</td>\n",
       "    </tr>\n",
       "    <tr>\n",
       "      <th>3</th>\n",
       "      <td>35.626065</td>\n",
       "      <td>-86.606475</td>\n",
       "      <td>11-OTHER COUNTY ROADS</td>\n",
       "      <td>CO. HWAY AGENCY</td>\n",
       "      <td>1672</td>\n",
       "      <td>3</td>\n",
       "    </tr>\n",
       "    <tr>\n",
       "      <th>4</th>\n",
       "      <td>35.626065</td>\n",
       "      <td>-86.606475</td>\n",
       "      <td>11-OTHER COUNTY ROADS</td>\n",
       "      <td>CO. HWAY AGENCY</td>\n",
       "      <td>1672</td>\n",
       "      <td>3</td>\n",
       "    </tr>\n",
       "  </tbody>\n",
       "</table>\n",
       "</div>"
      ],
      "text/plain": [
       "   GPS Latitude  GPS Longitude              Adm. Sys.       Gov. Cont.  AADT  \\\n",
       "0     35.626065     -86.606475  11-OTHER COUNTY ROADS  CO. HWAY AGENCY  1672   \n",
       "1     35.626065     -86.606475  11-OTHER COUNTY ROADS  CO. HWAY AGENCY  1672   \n",
       "2     35.626065     -86.606475  11-OTHER COUNTY ROADS  CO. HWAY AGENCY  1672   \n",
       "3     35.626065     -86.606475  11-OTHER COUNTY ROADS  CO. HWAY AGENCY  1672   \n",
       "4     35.626065     -86.606475  11-OTHER COUNTY ROADS  CO. HWAY AGENCY  1672   \n",
       "\n",
       "   SU Truck %  \n",
       "0           3  \n",
       "1           3  \n",
       "2           3  \n",
       "3           3  \n",
       "4           3  "
      ]
     },
     "execution_count": 4,
     "metadata": {},
     "output_type": "execute_result"
    }
   ],
   "source": [
    "df.head()"
   ]
  },
  {
   "cell_type": "code",
   "execution_count": 5,
   "metadata": {},
   "outputs": [],
   "source": [
    "node_features=df[['Adm. Sys.','Gov. Cont.','SU Truck %']]\n",
    "column_names = ['adm_features', 'gov_cont_features']"
   ]
  },
  {
   "cell_type": "code",
   "execution_count": 6,
   "metadata": {},
   "outputs": [
    {
     "name": "stderr",
     "output_type": "stream",
     "text": [
      "c:\\Users\\sgupta1\\AppData\\Local\\Programs\\Python\\Python311\\Lib\\site-packages\\sklearn\\preprocessing\\_encoders.py:972: FutureWarning: `sparse` was renamed to `sparse_output` in version 1.2 and will be removed in 1.4. `sparse_output` is ignored unless you leave `sparse` to its default value.\n",
      "  warnings.warn(\n",
      "c:\\Users\\sgupta1\\AppData\\Local\\Programs\\Python\\Python311\\Lib\\site-packages\\sklearn\\preprocessing\\_encoders.py:972: FutureWarning: `sparse` was renamed to `sparse_output` in version 1.2 and will be removed in 1.4. `sparse_output` is ignored unless you leave `sparse` to its default value.\n",
      "  warnings.warn(\n"
     ]
    }
   ],
   "source": [
    "encoder = OneHotEncoder(sparse=False)\n",
    "df['Adm. Sys.']= encoder.fit_transform(node_features[['Adm. Sys.']])\n",
    "df['Gov. Cont.']=encoder.fit_transform(node_features[['Gov. Cont.']])"
   ]
  },
  {
   "cell_type": "code",
   "execution_count": 7,
   "metadata": {},
   "outputs": [],
   "source": [
    "node_features=df[['Adm. Sys.','Gov. Cont.','SU Truck %']]"
   ]
  },
  {
   "cell_type": "code",
   "execution_count": 68,
   "metadata": {},
   "outputs": [],
   "source": [
    "scaler = StandardScaler()\n",
    "node_features = scaler.fit_transform(node_features)"
   ]
  },
  {
   "cell_type": "code",
   "execution_count": 67,
   "metadata": {},
   "outputs": [],
   "source": [
    "node_features = pd.DataFrame(node_features)"
   ]
  },
  {
   "cell_type": "code",
   "execution_count": 40,
   "metadata": {},
   "outputs": [],
   "source": [
    "node_features.to_csv('node_features.csv', index=False) "
   ]
  },
  {
   "cell_type": "markdown",
   "metadata": {},
   "source": [
    "Edge Index"
   ]
  },
  {
   "cell_type": "code",
   "execution_count": 10,
   "metadata": {},
   "outputs": [],
   "source": [
    "from scipy.spatial import KDTree\n",
    "import numpy as np"
   ]
  },
  {
   "cell_type": "code",
   "execution_count": 25,
   "metadata": {},
   "outputs": [],
   "source": [
    "coords=list(zip(df['GPS Latitude'], df['GPS Longitude']))\n"
   ]
  },
  {
   "cell_type": "code",
   "execution_count": 26,
   "metadata": {},
   "outputs": [
    {
     "data": {
      "text/plain": [
       "[(35.626065, -86.606475),\n",
       " (35.626065, -86.606475),\n",
       " (35.626065, -86.606475),\n",
       " (35.626065, -86.606475),\n",
       " (35.626065, -86.606475),\n",
       " (35.626065, -86.606475),\n",
       " (35.626065, -86.606475),\n",
       " (35.626065, -86.606475),\n",
       " (35.61036, -86.591587),\n",
       " (35.61036, -86.591587),\n",
       " (35.61036, -86.591587),\n",
       " (35.61036, -86.591587),\n",
       " (35.61036, -86.591587),\n",
       " (35.61036, -86.591587),\n",
       " (35.61036, -86.591587),\n",
       " (35.61036, -86.591587),\n",
       " (35.599442, -86.571658),\n",
       " (35.599442, -86.571658),\n",
       " (35.599442, -86.571658),\n",
       " (35.599442, -86.571658),\n",
       " (35.599442, -86.571658),\n",
       " (35.599442, -86.571658),\n",
       " (35.599442, -86.571658),\n",
       " (35.599442, -86.571658),\n",
       " (35.599442, -86.571658),\n",
       " (35.599442, -86.571658)]"
      ]
     },
     "execution_count": 26,
     "metadata": {},
     "output_type": "execute_result"
    }
   ],
   "source": [
    "coords"
   ]
  },
  {
   "cell_type": "code",
   "execution_count": 99,
   "metadata": {},
   "outputs": [],
   "source": [
    "tree = KDTree(coords)\n",
    "pairs = tree.query_pairs(r=10)\n",
    "\n",
    "edge_index = np.array(list(pairs)).T"
   ]
  },
  {
   "cell_type": "code",
   "execution_count": 100,
   "metadata": {},
   "outputs": [
    {
     "data": {
      "text/plain": [
       "array([[15,  7,  8,  0,  8,  0, 11,  0, 11,  3,  3, 14,  3, 14, 15,  7,\n",
       "        15,  7, 18,  0, 10,  3, 22,  3, 14,  7, 10,  2,  2,  3,  3,  3,\n",
       "        14, 17,  7,  6,  6, 21, 10,  2, 10,  2,  3,  3, 14, 17,  9,  6,\n",
       "         6,  2, 10,  2, 10,  2,  3,  9,  5, 17,  9,  6,  6, 10,  2,  2,\n",
       "        13, 16,  5, 17,  5,  9,  9,  6,  6, 12, 23,  2,  1, 13,  1, 16,\n",
       "         5,  9,  5, 17,  9,  6, 20, 12,  4,  1,  1, 13, 16,  5,  5,  9,\n",
       "         5, 12,  4, 12, 23,  4,  1,  1, 13,  1, 24, 16,  5,  8, 19,  8,\n",
       "         0, 11, 20,  4, 12,  4,  4,  1,  1, 15,  5,  7, 18,  0,  8,  0,\n",
       "        11,  0, 11, 12,  4, 12,  4,  1,  1, 15,  7, 18,  8,  0,  8, 19,\n",
       "         0, 11,  4,  4, 15,  7,  7, 18,  0,  8,  0, 11, 19,  0, 11,  4,\n",
       "         3,  3, 14,  7, 15,  7, 18,  8,  0,  0, 11, 10,  2,  3,  3, 14,\n",
       "        15,  7,  7, 18, 21,  0, 10, 10,  2,  3, 22,  3, 14,  7,  6,  2,\n",
       "        10,  2,  2,  3,  3, 14,  3, 14, 17,  9,  6,  6, 21, 10,  2, 10,\n",
       "         2, 13,  3, 17,  5,  9,  6,  6,  2, 10,  2,  2, 13, 16,  5,  9,\n",
       "         5,  9,  6,  6,  6, 21, 10,  2,  2, 13, 13,  1, 16,  5,  5, 17,\n",
       "         9,  6,  6, 20, 12,  2,  4,  1,  1, 13, 16,  5,  9,  5,  9,  8,\n",
       "        12, 12,  4,  1,  1, 13,  1, 13, 16,  5,  5,  9,  8, 19,  0, 11,\n",
       "        20, 12,  4,  4,  1,  1, 13,  1, 16,  5,  8,  0,  8, 19,  0, 11,\n",
       "        20,  4, 12,  4,  1,  1,  1, 15,  7,  8,  0,  8,  0, 11,  0, 11,\n",
       "        12,  4,  4,  1, 15,  7,  7, 18,  0,  8,  0,  8, 19,  0, 11,  4,\n",
       "         4, 22,  3, 14,  7],\n",
       "       [21, 17,  9,  5, 18, 14, 14, 23, 23,  6, 15, 15, 24, 24, 16, 12,\n",
       "        25, 21, 21,  9, 22, 10, 23, 19, 19, 16, 17, 13, 22,  5, 14, 23,\n",
       "        23, 25, 11, 15, 24, 22, 12,  8, 21, 17,  9, 18, 18, 20, 25, 10,\n",
       "        19,  3, 16, 12, 25, 21,  4, 11, 22, 24, 20, 14, 23, 11,  7, 16,\n",
       "        22, 18,  8, 19, 17, 15, 24,  9, 18, 25, 25, 11, 15, 17, 24, 22,\n",
       "        12, 10, 21, 23, 19, 13, 24, 20, 25, 10, 19, 21, 17,  7, 16, 14,\n",
       "        25, 15, 11, 24, 24, 20,  5, 14, 16, 23, 25, 21, 11, 13, 22, 22,\n",
       "        18, 18, 23,  6, 19, 15, 24,  9, 18, 20,  6, 25, 25,  4, 17, 13,\n",
       "        13, 22, 22, 14, 10, 23, 19,  4, 13, 24, 20, 20, 12,  8, 21, 21,\n",
       "        17, 17,  5, 14, 19, 15, 24, 24,  3, 16, 12, 12, 25, 21, 21,  9,\n",
       "        13, 22, 22, 10, 23, 19, 19, 11,  7, 16, 16, 20, 25,  8, 17, 17,\n",
       "        18, 14, 23, 23, 25,  2, 15, 24, 20, 12, 25, 21, 21,  9, 22,  6,\n",
       "        19, 15, 24,  7, 16, 16, 25, 25, 18, 23,  8, 17, 24, 14, 10, 23,\n",
       "        19, 25, 11, 22, 20, 18, 12, 21,  5, 18, 14, 23, 20, 25, 15, 13,\n",
       "        24, 22,  7, 16, 25, 23, 13,  9, 18, 15, 24, 22, 20, 10, 19, 21,\n",
       "        17, 11, 20, 22, 18,  4, 23,  8, 17, 19, 24, 14, 12, 23, 21, 25,\n",
       "        13, 22, 18,  3, 12, 14, 21, 23, 19,  9, 18, 16, 20, 20, 25, 25,\n",
       "        21, 17, 13, 22,  7, 16, 18, 25, 23, 13, 15, 11, 24, 24, 20, 20,\n",
       "        25,  8, 21, 17,  2, 11, 20, 22, 18, 10,  6, 19, 15, 15, 24, 24,\n",
       "        16, 12, 21,  6, 17, 13, 22, 22,  1, 14, 10, 23, 23, 19, 19,  7,\n",
       "        16, 24, 20, 20,  8]])"
      ]
     },
     "execution_count": 100,
     "metadata": {},
     "output_type": "execute_result"
    }
   ],
   "source": [
    "edge_index"
   ]
  },
  {
   "cell_type": "code",
   "execution_count": 101,
   "metadata": {},
   "outputs": [],
   "source": [
    "edge_index = pd.DataFrame(edge_index)\n",
    "edge_index.to_csv('esge_index.csv', index=False) \n"
   ]
  },
  {
   "cell_type": "markdown",
   "metadata": {},
   "source": [
    "Edge Attributes"
   ]
  },
  {
   "cell_type": "code",
   "execution_count": 102,
   "metadata": {},
   "outputs": [],
   "source": [
    "def haversine(lat1, lon1, lat2, lon2):\n",
    "    # Convert decimal degrees to radians\n",
    "    lon1, lat1, lon2, lat2 = map(np.radians, [lon1, lat1, lon2, lat2])\n",
    "\n",
    "    # Haversine formula\n",
    "    dlon = lon2 - lon1\n",
    "    dlat = lat2 - lat1\n",
    "    a = np.sin(dlat/2)**2 + np.cos(lat1) * np.cos(lat2) * np.sin(dlon/2)**2\n",
    "    c = 2 * np.arcsin(np.sqrt(a))\n",
    "    r = 6371  \n",
    "    return c * r"
   ]
  },
  {
   "cell_type": "code",
   "execution_count": 58,
   "metadata": {},
   "outputs": [],
   "source": [
    "edge_attributes=np.array([\n",
    "    haversine(coords[edge[0]][0], coords[edge[0]][1], \n",
    "                       coords[edge[1]][0], coords[edge[1]][1])\n",
    "    for edge in edge_index.T  # Note: Transpose back to Nx2 for iteration\n",
    "])"
   ]
  },
  {
   "cell_type": "code",
   "execution_count": 59,
   "metadata": {},
   "outputs": [
    {
     "data": {
      "text/plain": [
       "array([2.17257192, 4.32084856, 0.        , 0.        , 2.17257192,\n",
       "       2.20469593, 0.        , 4.32084856, 2.17257192, 0.        ,\n",
       "       2.20469593, 0.        , 4.32084856, 2.17257192, 2.17257192,\n",
       "       2.20469593, 2.17257192, 4.32084856, 0.        , 2.20469593,\n",
       "       2.17257192, 2.20469593, 0.        , 4.32084856, 2.17257192,\n",
       "       4.32084856, 2.17257192, 2.20469593, 4.32084856, 0.        ,\n",
       "       2.20469593, 4.32084856, 2.17257192, 0.        , 2.20469593,\n",
       "       2.20469593, 4.32084856, 0.        , 0.        , 2.20469593,\n",
       "       2.17257192, 4.32084856, 2.20469593, 4.32084856, 2.17257192,\n",
       "       0.        , 2.17257192, 2.20469593, 4.32084856, 0.        ,\n",
       "       2.17257192, 2.20469593, 2.17257192, 4.32084856, 0.        ,\n",
       "       0.        , 4.32084856, 0.        , 2.17257192, 2.20469593,\n",
       "       4.32084856, 0.        , 0.        , 4.32084856, 2.17257192,\n",
       "       0.        , 2.20469593, 0.        , 4.32084856, 0.        ,\n",
       "       2.17257192, 2.20469593, 4.32084856, 2.17257192, 0.        ,\n",
       "       2.20469593, 2.20469593, 2.17257192, 4.32084856, 0.        ,\n",
       "       2.20469593, 0.        , 4.32084856, 0.        , 2.17257192,\n",
       "       2.20469593, 0.        , 2.17257192, 4.32084856, 2.20469593,\n",
       "       4.32084856, 2.17257192, 0.        , 0.        , 4.32084856,\n",
       "       0.        , 4.32084856, 0.        , 2.20469593, 2.17257192,\n",
       "       0.        , 4.32084856, 0.        , 2.20469593, 2.17257192,\n",
       "       4.32084856, 0.        , 0.        , 2.20469593, 0.        ,\n",
       "       0.        , 2.17257192, 4.32084856, 2.17257192, 0.        ,\n",
       "       0.        , 2.17257192, 2.20469593, 4.32084856, 2.20469593,\n",
       "       4.32084856, 2.17257192, 0.        , 4.32084856, 0.        ,\n",
       "       0.        , 2.17257192, 2.20469593, 0.        , 4.32084856,\n",
       "       2.17257192, 0.        , 2.20469593, 2.17257192, 4.32084856,\n",
       "       0.        , 2.20469593, 2.17257192, 4.32084856, 0.        ,\n",
       "       0.        , 2.20469593, 2.17257192, 0.        , 4.32084856,\n",
       "       2.17257192, 0.        , 2.20469593, 2.17257192, 2.20469593,\n",
       "       4.32084856, 0.        , 0.        , 2.17257192, 2.20469593,\n",
       "       0.        , 0.        , 4.32084856, 2.17257192, 2.20469593,\n",
       "       2.20469593, 4.32084856, 2.17257192, 2.20469593, 2.17257192,\n",
       "       4.32084856, 0.        , 0.        , 0.        , 4.32084856,\n",
       "       2.17257192, 2.17257192, 4.32084856, 2.20469593, 4.32084856,\n",
       "       2.17257192, 2.17257192, 2.20469593, 4.32084856, 0.        ,\n",
       "       0.        , 0.        , 0.        , 2.17257192, 4.32084856,\n",
       "       2.20469593, 0.        , 4.32084856, 2.17257192, 2.20469593,\n",
       "       4.32084856, 0.        , 2.17257192, 2.20469593, 4.32084856,\n",
       "       0.        , 4.32084856, 2.17257192, 4.32084856, 2.17257192,\n",
       "       0.        , 2.17257192, 2.20469593, 4.32084856, 0.        ,\n",
       "       0.        , 2.20469593, 2.17257192, 4.32084856, 2.17257192,\n",
       "       2.20469593, 0.        , 4.32084856, 2.17257192, 2.20469593,\n",
       "       4.32084856, 0.        , 2.17257192, 2.20469593, 4.32084856,\n",
       "       2.17257192, 0.        , 2.20469593, 0.        , 4.32084856,\n",
       "       2.17257192, 0.        , 4.32084856, 4.32084856, 0.        ,\n",
       "       0.        , 2.20469593, 4.32084856, 0.        , 2.17257192,\n",
       "       4.32084856, 0.        , 2.20469593, 4.32084856, 0.        ,\n",
       "       2.17257192, 2.20469593, 4.32084856, 0.        , 2.17257192,\n",
       "       0.        , 4.32084856, 2.20469593, 4.32084856, 2.17257192,\n",
       "       0.        , 2.20469593, 0.        , 4.32084856, 2.17257192,\n",
       "       2.17257192, 0.        , 2.17257192, 4.32084856, 0.        ,\n",
       "       2.20469593, 0.        , 4.32084856, 2.17257192, 0.        ,\n",
       "       2.20469593, 4.32084856, 2.17257192, 2.17257192, 0.        ,\n",
       "       4.32084856, 2.17257192, 0.        , 2.17257192, 2.20469593,\n",
       "       4.32084856, 0.        , 4.32084856, 2.17257192, 4.32084856,\n",
       "       0.        , 2.20469593, 0.        , 2.20469593, 2.17257192,\n",
       "       0.        , 4.32084856, 2.17257192, 0.        , 2.20469593,\n",
       "       2.17257192, 4.32084856, 0.        , 2.20469593, 4.32084856,\n",
       "       2.17257192, 4.32084856, 0.        , 0.        , 2.17257192,\n",
       "       2.20469593, 0.        , 4.32084856, 2.17257192, 2.17257192,\n",
       "       2.20469593, 4.32084856, 0.        , 2.17257192, 2.20469593,\n",
       "       4.32084856, 0.        , 0.        , 0.        , 2.20469593,\n",
       "       2.17257192, 0.        , 4.32084856, 2.17257192, 0.        ,\n",
       "       4.32084856, 0.        , 4.32084856, 2.17257192, 2.20469593])"
      ]
     },
     "execution_count": 59,
     "metadata": {},
     "output_type": "execute_result"
    }
   ],
   "source": [
    "edge_attributes"
   ]
  },
  {
   "cell_type": "markdown",
   "metadata": {},
   "source": [
    "Preparing the dataset"
   ]
  },
  {
   "cell_type": "code",
   "execution_count": null,
   "metadata": {},
   "outputs": [],
   "source": []
  },
  {
   "cell_type": "markdown",
   "metadata": {},
   "source": [
    "Node features are X\n"
   ]
  },
  {
   "cell_type": "code",
   "execution_count": 60,
   "metadata": {},
   "outputs": [],
   "source": [
    "import torch\n",
    "from torch_geometric.data import Data"
   ]
  },
  {
   "cell_type": "code",
   "execution_count": 75,
   "metadata": {},
   "outputs": [],
   "source": [
    "df = pd.read_excel('Book1.xlsx')\n",
    "values = np.log10(df['AADT'])\n",
    "y = torch.tensor(values)"
   ]
  },
  {
   "cell_type": "code",
   "execution_count": 103,
   "metadata": {},
   "outputs": [
    {
     "ename": "ValueError",
     "evalue": "expected sequence of length 2 at dim 0 (got 325)",
     "output_type": "error",
     "traceback": [
      "\u001b[1;31m---------------------------------------------------------------------------\u001b[0m",
      "\u001b[1;31mValueError\u001b[0m                                Traceback (most recent call last)",
      "Cell \u001b[1;32mIn[103], line 1\u001b[0m\n\u001b[1;32m----> 1\u001b[0m edge_index \u001b[38;5;241m=\u001b[39m \u001b[43mtorch\u001b[49m\u001b[38;5;241;43m.\u001b[39;49m\u001b[43mtensor\u001b[49m\u001b[43m(\u001b[49m\u001b[43medge_index\u001b[49m\u001b[43m)\u001b[49m\n",
      "\u001b[1;31mValueError\u001b[0m: expected sequence of length 2 at dim 0 (got 325)"
     ]
    }
   ],
   "source": [
    "edge_index = torch.tensor(edge_index)"
   ]
  },
  {
   "cell_type": "code",
   "execution_count": 98,
   "metadata": {},
   "outputs": [
    {
     "ename": "TypeError",
     "evalue": "'int' object is not callable",
     "output_type": "error",
     "traceback": [
      "\u001b[1;31m---------------------------------------------------------------------------\u001b[0m",
      "\u001b[1;31mTypeError\u001b[0m                                 Traceback (most recent call last)",
      "Cell \u001b[1;32mIn[98], line 5\u001b[0m\n\u001b[0;32m      3\u001b[0m \u001b[38;5;28;01mimport\u001b[39;00m \u001b[38;5;21;01mmatplotlib\u001b[39;00m\u001b[38;5;21;01m.\u001b[39;00m\u001b[38;5;21;01mpyplot\u001b[39;00m \u001b[38;5;28;01mas\u001b[39;00m \u001b[38;5;21;01mplt\u001b[39;00m\n\u001b[0;32m      4\u001b[0m \u001b[38;5;66;03m# Get list of degrees for each node\u001b[39;00m\n\u001b[1;32m----> 5\u001b[0m degrees \u001b[38;5;241m=\u001b[39m \u001b[43mdegree\u001b[49m\u001b[43m(\u001b[49m\u001b[43medge_index\u001b[49m\u001b[43m[\u001b[49m\u001b[38;5;241;43m0\u001b[39;49m\u001b[43m]\u001b[49m\u001b[38;5;241;43m.\u001b[39;49m\u001b[43mnumpy\u001b[49m\u001b[43m(\u001b[49m\u001b[43m)\u001b[49m\u001b[43m)\u001b[49m\n\u001b[0;32m      7\u001b[0m \u001b[38;5;66;03m# Count the number of nodes for each degree\u001b[39;00m\n\u001b[0;32m      8\u001b[0m numbers \u001b[38;5;241m=\u001b[39m Counter(degrees)\n",
      "File \u001b[1;32mc:\\Users\\sgupta1\\AppData\\Local\\Programs\\Python\\Python311\\Lib\\site-packages\\torch_geometric\\utils\\degree.py:29\u001b[0m, in \u001b[0;36mdegree\u001b[1;34m(index, num_nodes, dtype)\u001b[0m\n\u001b[0;32m      9\u001b[0m \u001b[38;5;28;01mdef\u001b[39;00m \u001b[38;5;21mdegree\u001b[39m(index: Tensor, num_nodes: Optional[\u001b[38;5;28mint\u001b[39m] \u001b[38;5;241m=\u001b[39m \u001b[38;5;28;01mNone\u001b[39;00m,\n\u001b[0;32m     10\u001b[0m            dtype: Optional[torch\u001b[38;5;241m.\u001b[39mdtype] \u001b[38;5;241m=\u001b[39m \u001b[38;5;28;01mNone\u001b[39;00m) \u001b[38;5;241m-\u001b[39m\u001b[38;5;241m>\u001b[39m Tensor:\n\u001b[0;32m     11\u001b[0m \u001b[38;5;250m    \u001b[39m\u001b[38;5;124mr\u001b[39m\u001b[38;5;124;03m\"\"\"Computes the (unweighted) degree of a given one-dimensional index\u001b[39;00m\n\u001b[0;32m     12\u001b[0m \u001b[38;5;124;03m    tensor.\u001b[39;00m\n\u001b[0;32m     13\u001b[0m \n\u001b[1;32m   (...)\u001b[0m\n\u001b[0;32m     27\u001b[0m \u001b[38;5;124;03m        tensor([3, 1, 1])\u001b[39;00m\n\u001b[0;32m     28\u001b[0m \u001b[38;5;124;03m    \"\"\"\u001b[39;00m\n\u001b[1;32m---> 29\u001b[0m     N \u001b[38;5;241m=\u001b[39m \u001b[43mmaybe_num_nodes\u001b[49m\u001b[43m(\u001b[49m\u001b[43mindex\u001b[49m\u001b[43m,\u001b[49m\u001b[43m \u001b[49m\u001b[43mnum_nodes\u001b[49m\u001b[43m)\u001b[49m\n\u001b[0;32m     30\u001b[0m     out \u001b[38;5;241m=\u001b[39m torch\u001b[38;5;241m.\u001b[39mzeros((N, ), dtype\u001b[38;5;241m=\u001b[39mdtype, device\u001b[38;5;241m=\u001b[39mindex\u001b[38;5;241m.\u001b[39mdevice)\n\u001b[0;32m     31\u001b[0m     one \u001b[38;5;241m=\u001b[39m torch\u001b[38;5;241m.\u001b[39mones((index\u001b[38;5;241m.\u001b[39msize(\u001b[38;5;241m0\u001b[39m), ), dtype\u001b[38;5;241m=\u001b[39mout\u001b[38;5;241m.\u001b[39mdtype, device\u001b[38;5;241m=\u001b[39mout\u001b[38;5;241m.\u001b[39mdevice)\n",
      "File \u001b[1;32mc:\\Users\\sgupta1\\AppData\\Local\\Programs\\Python\\Python311\\Lib\\site-packages\\torch_geometric\\utils\\num_nodes.py:27\u001b[0m, in \u001b[0;36mmaybe_num_nodes\u001b[1;34m(edge_index, num_nodes)\u001b[0m\n\u001b[0;32m     25\u001b[0m     \u001b[38;5;28;01mreturn\u001b[39;00m \u001b[38;5;28mint\u001b[39m(edge_index\u001b[38;5;241m.\u001b[39mmax()) \u001b[38;5;241m+\u001b[39m \u001b[38;5;241m1\u001b[39m \u001b[38;5;28;01mif\u001b[39;00m edge_index\u001b[38;5;241m.\u001b[39mnumel() \u001b[38;5;241m>\u001b[39m \u001b[38;5;241m0\u001b[39m \u001b[38;5;28;01melse\u001b[39;00m \u001b[38;5;241m0\u001b[39m\n\u001b[0;32m     26\u001b[0m \u001b[38;5;28;01melse\u001b[39;00m:\n\u001b[1;32m---> 27\u001b[0m     \u001b[38;5;28;01mreturn\u001b[39;00m \u001b[38;5;28mmax\u001b[39m(\u001b[43medge_index\u001b[49m\u001b[38;5;241;43m.\u001b[39;49m\u001b[43msize\u001b[49m\u001b[43m(\u001b[49m\u001b[38;5;241;43m0\u001b[39;49m\u001b[43m)\u001b[49m, edge_index\u001b[38;5;241m.\u001b[39msize(\u001b[38;5;241m1\u001b[39m))\n",
      "\u001b[1;31mTypeError\u001b[0m: 'int' object is not callable"
     ]
    }
   ],
   "source": [
    "from torch_geometric.utils import degree\n",
    "from collections import Counter\n",
    "import matplotlib.pyplot as plt\n",
    "# Get list of degrees for each node\n",
    "degrees = degree(edge_index[0].numpy())\n",
    "\n",
    "# Count the number of nodes for each degree\n",
    "numbers = Counter(degrees)\n",
    "\n",
    "# Bar plot\n",
    "fig, ax = plt.subplots()\n",
    "ax.set_xlabel('Node degree')\n",
    "ax.set_ylabel('Number of nodes')\n",
    "plt.bar(numbers.keys(), numbers.values())"
   ]
  },
  {
   "cell_type": "code",
   "execution_count": null,
   "metadata": {},
   "outputs": [],
   "source": []
  }
 ],
 "metadata": {
  "kernelspec": {
   "display_name": "Python 3",
   "language": "python",
   "name": "python3"
  },
  "language_info": {
   "codemirror_mode": {
    "name": "ipython",
    "version": 3
   },
   "file_extension": ".py",
   "mimetype": "text/x-python",
   "name": "python",
   "nbconvert_exporter": "python",
   "pygments_lexer": "ipython3",
   "version": "3.11.5"
  }
 },
 "nbformat": 4,
 "nbformat_minor": 2
}
